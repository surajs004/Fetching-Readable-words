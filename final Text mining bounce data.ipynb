{
 "cells": [
  {
   "cell_type": "code",
   "execution_count": 3,
   "metadata": {},
   "outputs": [
    {
     "data": {
      "text/html": [
       "<div>\n",
       "<style scoped>\n",
       "    .dataframe tbody tr th:only-of-type {\n",
       "        vertical-align: middle;\n",
       "    }\n",
       "\n",
       "    .dataframe tbody tr th {\n",
       "        vertical-align: top;\n",
       "    }\n",
       "\n",
       "    .dataframe thead th {\n",
       "        text-align: right;\n",
       "    }\n",
       "</style>\n",
       "<table border=\"1\" class=\"dataframe\">\n",
       "  <thead>\n",
       "    <tr style=\"text-align: right;\">\n",
       "      <th></th>\n",
       "      <th>dsnDiag</th>\n",
       "    </tr>\n",
       "  </thead>\n",
       "  <tbody>\n",
       "    <tr>\n",
       "      <td>0</td>\n",
       "      <td>smtp;550 5.7.1 recipient is in suppression lis...</td>\n",
       "    </tr>\n",
       "    <tr>\n",
       "      <td>1</td>\n",
       "      <td>smtp;550 5.7.1 recipient is in suppression lis...</td>\n",
       "    </tr>\n",
       "    <tr>\n",
       "      <td>2</td>\n",
       "      <td>smtp;550 5.7.1 recipient is in suppression lis...</td>\n",
       "    </tr>\n",
       "    <tr>\n",
       "      <td>3</td>\n",
       "      <td>smtp;452 4.2.2 The email account that you trie...</td>\n",
       "    </tr>\n",
       "    <tr>\n",
       "      <td>4</td>\n",
       "      <td>smtp;550 5.7.1 recipient is in suppression lis...</td>\n",
       "    </tr>\n",
       "  </tbody>\n",
       "</table>\n",
       "</div>"
      ],
      "text/plain": [
       "                                             dsnDiag\n",
       "0  smtp;550 5.7.1 recipient is in suppression lis...\n",
       "1  smtp;550 5.7.1 recipient is in suppression lis...\n",
       "2  smtp;550 5.7.1 recipient is in suppression lis...\n",
       "3  smtp;452 4.2.2 The email account that you trie...\n",
       "4  smtp;550 5.7.1 recipient is in suppression lis..."
      ]
     },
     "execution_count": 3,
     "metadata": {},
     "output_type": "execute_result"
    }
   ],
   "source": [
    "#import data set\n",
    "import pandas as pd\n",
    "import re\n",
    "df=pd.read_csv('C:/Users/Suraj S/Downloads/sample bounce file - Sheet4.csv')\n",
    "df.head()  \n",
    "        "
   ]
  },
  {
   "cell_type": "code",
   "execution_count": 6,
   "metadata": {},
   "outputs": [],
   "source": [
    "#start importing libraries for stopwords removal,fetching only readable words of english\n",
    "import nltk\n",
    "from nltk.corpus import stopwords\n",
    "words = set(nltk.corpus.words.words())\n",
    "stop_words = stopwords.words('english')     "
   ]
  },
  {
   "cell_type": "code",
   "execution_count": 7,
   "metadata": {},
   "outputs": [],
   "source": [
    "#create one free df to store all the rows of our data,if we miss this step we can fetch the output but it will be in string format\n",
    "#so wee need to do for loop and recusrion for fetching datas from each rows and store that on itt's own row \n",
    "jj=[]\n",
    "#doing Text mining\n",
    "for index, row in df.iterrows():\n",
    "    new_text=\" \".join(w for w in nltk.wordpunct_tokenize(row['dsnDiag'])\n",
    "    if w.lower() in words\n",
    "    and w.lower() not in stop_words\n",
    "    and len(w.lower())>1)\n",
    "    jj.append(new_text)"
   ]
  },
  {
   "cell_type": "code",
   "execution_count": 9,
   "metadata": {},
   "outputs": [],
   "source": [
    "#exportt data to output file\n",
    "df1 = pd.DataFrame(jj)\n",
    "df1.to_csv('out4.csv', index=False)"
   ]
  },
  {
   "cell_type": "code",
   "execution_count": null,
   "metadata": {},
   "outputs": [],
   "source": []
  }
 ],
 "metadata": {
  "kernelspec": {
   "display_name": "Python 3",
   "language": "python",
   "name": "python3"
  },
  "language_info": {
   "codemirror_mode": {
    "name": "ipython",
    "version": 3
   },
   "file_extension": ".py",
   "mimetype": "text/x-python",
   "name": "python",
   "nbconvert_exporter": "python",
   "pygments_lexer": "ipython3",
   "version": "3.7.4"
  }
 },
 "nbformat": 4,
 "nbformat_minor": 2
}
